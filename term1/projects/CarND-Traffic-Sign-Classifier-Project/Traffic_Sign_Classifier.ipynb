{
 "cells": [
  {
   "cell_type": "markdown",
   "metadata": {},
   "source": [
    "# Self-Driving Car Engineer Nanodegree\n",
    "\n",
    "## Deep Learning\n",
    "\n",
    "## Project: Build a Traffic Sign Recognition Classifier\n",
    "\n",
    "In this notebook, a template is provided for you to implement your functionality in stages which is required to successfully complete this project. If additional code is required that cannot be included in the notebook, be sure that the Python code is successfully imported and included in your submission, if necessary. Sections that begin with **'Implementation'** in the header indicate where you should begin your implementation for your project. Note that some sections of implementation are optional, and will be marked with **'Optional'** in the header.\n",
    "\n",
    "In addition to implementing code, there will be questions that you must answer which relate to the project and your implementation. Each section where you will answer a question is preceded by a **'Question'** header. Carefully read each question and provide thorough answers in the following text boxes that begin with **'Answer:'**. Your project submission will be evaluated based on your answers to each of the questions and the implementation you provide.\n",
    "\n",
    ">**Note:** Code and Markdown cells can be executed using the **Shift + Enter** keyboard shortcut. In addition, Markdown cells can be edited by typically double-clicking the cell to enter edit mode."
   ]
  },
  {
   "cell_type": "markdown",
   "metadata": {},
   "source": [
    "---\n",
    "## Step 0: Load The Data"
   ]
  },
  {
   "cell_type": "code",
   "execution_count": 1,
   "metadata": {
    "collapsed": false
   },
   "outputs": [],
   "source": [
    "# Load pickled data\n",
    "import numpy as np\n",
    "import cv2\n",
    "import pickle\n",
    "import tqdm\n",
    "\n",
    "# TODO: Fill this in based on where you saved the training and testing data\n",
    "\n",
    "training_file = 'data/train.p'\n",
    "testing_file = 'data/test.p'\n",
    "\n",
    "with open(training_file, mode='rb') as f:\n",
    "    train = pickle.load(f)\n",
    "with open(testing_file, mode='rb') as f:\n",
    "    test = pickle.load(f)\n",
    "    \n",
    "X_train, y_train = train['features'], train['labels']\n",
    "X_test, y_test = test['features'], test['labels']"
   ]
  },
  {
   "cell_type": "markdown",
   "metadata": {},
   "source": [
    "---\n",
    "\n",
    "## Step 1: Dataset Summary & Exploration\n",
    "\n",
    "The pickled data is a dictionary with 4 key/value pairs:\n",
    "\n",
    "- `'features'` is a 4D array containing raw pixel data of the traffic sign images, (num examples, width, height, channels).\n",
    "- `'labels'` is a 2D array containing the label/class id of the traffic sign. The file `signnames.csv` contains id -> name mappings for each id.\n",
    "- `'sizes'` is a list containing tuples, (width, height) representing the the original width and height the image.\n",
    "- `'coords'` is a list containing tuples, (x1, y1, x2, y2) representing coordinates of a bounding box around the sign in the image. **THESE COORDINATES ASSUME THE ORIGINAL IMAGE. THE PICKLED DATA CONTAINS RESIZED VERSIONS (32 by 32) OF THESE IMAGES**\n",
    "\n",
    "Complete the basic data summary below."
   ]
  },
  {
   "cell_type": "code",
   "execution_count": 2,
   "metadata": {
    "collapsed": false
   },
   "outputs": [
    {
     "name": "stdout",
     "output_type": "stream",
     "text": [
      "Number of training examples = 39209\n",
      "Number of testing examples = 12630\n",
      "Image data shape = (32, 32, 3)\n",
      "Number of classes = 43\n"
     ]
    }
   ],
   "source": [
    "### Replace each question mark with the appropriate value.\n",
    "\n",
    "# TODO: Number of training examples\n",
    "n_train = len(X_train)\n",
    "\n",
    "# TODO: Number of testing examples.\n",
    "n_test = len(X_test)\n",
    "\n",
    "# TODO: What's the shape of an traffic sign image?\n",
    "image_shape = X_train.shape[1:4]\n",
    "\n",
    "# TODO: How many unique classes/labels there are in the dataset.\n",
    "n_classes = max(y_train) + 1  # zero-based indexing\n",
    "\n",
    "print(\"Number of training examples =\", n_train)\n",
    "print(\"Number of testing examples =\", n_test)\n",
    "print(\"Image data shape =\", image_shape)\n",
    "print(\"Number of classes =\", n_classes)"
   ]
  },
  {
   "cell_type": "markdown",
   "metadata": {},
   "source": [
    "Visualize the German Traffic Signs Dataset using the pickled file(s). This is open ended, suggestions include: plotting traffic sign images, plotting the count of each sign, etc.\n",
    "\n",
    "The [Matplotlib](http://matplotlib.org/) [examples](http://matplotlib.org/examples/index.html) and [gallery](http://matplotlib.org/gallery.html) pages are a great resource for doing visualizations in Python.\n",
    "\n",
    "**NOTE:** It's recommended you start with something simple first. If you wish to do more, come back to it after you've completed the rest of the sections."
   ]
  },
  {
   "cell_type": "code",
   "execution_count": 3,
   "metadata": {
    "collapsed": false
   },
   "outputs": [
    {
     "name": "stdout",
     "output_type": "stream",
     "text": [
      "[  210.  2220.  2250.  1410.  1980.  1860.   420.  1440.  1410.  1470.\n",
      "  2010.  1320.  2100.  2160.   780.   630.   420.  1110.  1200.   210.\n",
      "   360.   330.   390.   510.   270.  1500.   600.   240.   540.   270.\n",
      "   450.   780.   240.   689.   420.  1200.   390.   210.  2070.   300.\n",
      "   360.   240.   240.]\n",
      "Mean: 911.84, Dev: 687.72\n"
     ]
    },
    {
     "data": {
      "image/png": "[encoded data removed]",
      "text/plain": [
       "<matplotlib.figure.Figure at 0x7f2ae5896da0>"
      ]
     },
     "metadata": {},
     "output_type": "display_data"
    }
   ],
   "source": [
    "### Data exploration visualization goes here.\n",
    "### Feel free to use as many code cells as needed.\n",
    "import matplotlib.pyplot as plt\n",
    "# Visualizations will be shown in the notebook.\n",
    "%matplotlib inline\n",
    "\n",
    "# class distribution: we can see how many imbalanced classes are in the train dataset\n",
    "class_distribution, _, patches = plt.hist(y_train, bins=np.arange(0,n_classes+1))\n",
    "\n",
    "print(class_distribution)\n",
    "# give the mean of classes\n",
    "balancing_mean = np.mean(class_distribution)\n",
    "std_dev = np.std(class_distribution)\n",
    "\n",
    "print(\"Mean: {:.2f}, Dev: {:.2f}\".format(balancing_mean, std_dev))"
   ]
  },
  {
   "cell_type": "code",
   "execution_count": 4,
   "metadata": {
    "collapsed": false,
    "scrolled": true
   },
   "outputs": [
    {
     "data": {
      "text/plain": [
       "(array([ 210.,  210.,  210.,  210.,  210.,  210.,  210.,  210.,  210.,\n",
       "         210.,  210.,  210.,  210.,  210.,  210.,  210.,  210.,  210.,\n",
       "         210.,  210.,  210.,  210.,  210.,  210.,  210.,  210.,  210.,\n",
       "         210.,  210.,  210.,  210.,  210.,  210.,  210.,  210.,  210.,\n",
       "         210.,  210.,  210.,  210.,  210.,  210.,  210.]),\n",
       " array([ 0,  1,  2,  3,  4,  5,  6,  7,  8,  9, 10, 11, 12, 13, 14, 15, 16,\n",
       "        17, 18, 19, 20, 21, 22, 23, 24, 25, 26, 27, 28, 29, 30, 31, 32, 33,\n",
       "        34, 35, 36, 37, 38, 39, 40, 41, 42, 43]),\n",
       " <a list of 43 Patch objects>)"
      ]
     },
     "execution_count": 4,
     "metadata": {},
     "output_type": "execute_result"
    },
    {
     "data": {
      "image/png": "[encoded data removed]",
      "text/plain": [
       "<matplotlib.figure.Figure at 0x7f2ae5584ef0>"
      ]
     },
     "metadata": {},
     "output_type": "display_data"
    }
   ],
   "source": [
    "# under sampling (class balancing)\n",
    "from imblearn.under_sampling import NearMiss\n",
    "\n",
    "undersampler = NearMiss(return_indices=True)\n",
    "_,_, indexes = undersampler.fit_sample(np.random.randn(len(X_train), 1), y_train)\n",
    "\n",
    "X_under = X_train[indexes]\n",
    "y_under = y_train[indexes]\n",
    "plt.hist(y_under, bins=np.arange(0,n_classes+1))"
   ]
  },
  {
   "cell_type": "markdown",
   "metadata": {},
   "source": [
    "----\n",
    "\n",
    "## Step 2: Design and Test a Model Architecture\n",
    "\n",
    "Design and implement a deep learning model that learns to recognize traffic signs. Train and test your model on the [German Traffic Sign Dataset](http://benchmark.ini.rub.de/?section=gtsrb&subsection=dataset).\n",
    "\n",
    "There are various aspects to consider when thinking about this problem:\n",
    "\n",
    "- Neural network architecture\n",
    "- Play around preprocessing techniques (normalization, rgb to grayscale, etc)\n",
    "- Number of examples per label (some have more than others).\n",
    "- Generate fake data.\n",
    "\n",
    "Here is an example of a [published baseline model on this problem](http://yann.lecun.com/exdb/publis/pdf/sermanet-ijcnn-11.pdf). It's not required to be familiar with the approach used in the paper but, it's good practice to try to read papers like these.\n",
    "\n",
    "**NOTE:** The LeNet-5 implementation shown in the [classroom](https://classroom.udacity.com/nanodegrees/nd013/parts/fbf77062-5703-404e-b60c-95b78b2f3f9e/modules/6df7ae49-c61c-4bb2-a23e-6527e69209ec/lessons/601ae704-1035-4287-8b11-e2c2716217ad/concepts/d4aca031-508f-4e0b-b493-e7b706120f81) at the end of the CNN lesson is a solid starting point. You'll have to change the number of classes and possibly the preprocessing, but aside from that it's plug and play!"
   ]
  },
  {
   "cell_type": "markdown",
   "metadata": {},
   "source": [
    "### Implementation\n",
    "\n",
    "Use the code cell (or multiple code cells, if necessary) to implement the first step of your project. Once you have completed your implementation and are satisfied with the results, be sure to thoroughly answer the questions that follow."
   ]
  },
  {
   "cell_type": "code",
   "execution_count": 5,
   "metadata": {
    "collapsed": true
   },
   "outputs": [],
   "source": [
    "### Preprocess the data here.\n",
    "### Feel free to use as many code cells as needed.\n",
    "\n",
    "def grayscale(image):\n",
    "    return cv2.cvtColor(image, cv2.COLOR_RGB2GRAY)\n",
    "\n",
    "\n",
    "def adaptive_histogram_equalization(image):\n",
    "    adaptive_histogram_equalizer = cv2.createCLAHE(clipLimit=0.01, tileGridSize=(4,4))\n",
    "    return adaptive_histogram_equalizer.apply(image)\n",
    "\n",
    "\n",
    "def image_adjust(image):\n",
    "    return exposure.rescale_intensity(image)\n",
    "\n",
    "\n",
    "def histogram_equalization(image):\n",
    "    return cv2.equalizeHist(image)\n",
    "\n",
    "\n",
    "def contrast_normalization(image):\n",
    "    blurred = cv2.GaussianBlur(image, (3,3), 0)\n",
    "    return cv2.Laplacian(blurred, cv2.CV_8U, 3)\n",
    "\n",
    "\n",
    "def flatten(image):\n",
    "    return image.ravel()\n",
    "\n",
    "\n",
    "def preprocess(train_input):\n",
    "    preprocessed_images = []\n",
    "\n",
    "    for image in train_input:\n",
    "        preprocessed_image = grayscale(image)\n",
    "        preprocessed_image = histogram_equalization(preprocessed_image)\n",
    "        preprocessed_image = flatten(preprocessed_image)\n",
    "        preprocessed_images.append(preprocessed_image)\n",
    "\n",
    "    return preprocessed_images"
   ]
  },
  {
   "cell_type": "markdown",
   "metadata": {},
   "source": [
    "### Question 1 \n",
    "\n",
    "_Describe how you preprocessed the data. Why did you choose that technique?_"
   ]
  },
  {
   "cell_type": "markdown",
   "metadata": {},
   "source": [
    "**Answer:**\n",
    "The preprocessing pipeline is inspired by the one proposed on Multi-Column Deep Neural Network for Traffic Sign Classification by Dan Cireşan et alter. However, it turns out that applying all the four Image Adjustment, Histogram Equalization, Adaptive Histogram Equalization, Contrast Normalization techniques did not result on better performance on the validation set.\n",
    "\n",
    "The grayscale conversion is inspired by Sermanet&Lecun referenced paper."
   ]
  },
  {
   "cell_type": "code",
   "execution_count": 6,
   "metadata": {
    "collapsed": false,
    "scrolled": true
   },
   "outputs": [
    {
     "name": "stderr",
     "output_type": "stream",
     "text": [
      "/home/linuxpotter/.virtualenvs/selfd/lib/python3.5/site-packages/ipykernel/__main__.py:12: DeprecationWarning: This function is deprecated. Please call randint(-2, 2 + 1) instead\n",
      "/home/linuxpotter/.virtualenvs/selfd/lib/python3.5/site-packages/ipykernel/__main__.py:14: DeprecationWarning: This function is deprecated. Please call randint(-15, 15 + 1) instead\n",
      "Augmenting: 100%|██████████| 9030/9030 [00:02<00:00, 3485.13it/s]\n"
     ]
    },
    {
     "data": {
      "image/png": "[encoded data removed]",
      "text/plain": [
       "<matplotlib.figure.Figure at 0x7f2ac8db4e10>"
      ]
     },
     "metadata": {},
     "output_type": "display_data"
    }
   ],
   "source": [
    "TRAIN_FILE = 'data/train.p'\n",
    "\n",
    "TRANSLATION_RANGE = (-2, 2)\n",
    "SCALE_RANGE = (0.9, 1.1)\n",
    "ROTATION_RANGE = (-15, 15)\n",
    "\n",
    "DEFAULT_TRANSFORMS = [[-2, 0], [0, -2], [2, 0], [0, 2]]\n",
    "DEFAULT_SCALES = list(SCALE_RANGE)\n",
    "DEFAULT_ANGLES = list(ROTATION_RANGE)\n",
    "\n",
    "SAMPLES = 4\n",
    "STOCHASTIC_TRANSFORMS = np.split(np.random.random_integers(low=TRANSLATION_RANGE[0], high=TRANSLATION_RANGE[1], size=SAMPLES), 2)\n",
    "STOCHASTIC_SCALES = np.random.uniform(low=SCALE_RANGE[0], high=SCALE_RANGE[1], size=SAMPLES)\n",
    "STOCHASTIC_ANGLES = np.random.random_integers(low=ROTATION_RANGE[0], high=ROTATION_RANGE[1], size=SAMPLES)\n",
    "\n",
    "\n",
    "def translate(image, transforms=DEFAULT_TRANSFORMS):\n",
    "    translated = []\n",
    "\n",
    "    for transform in transforms:\n",
    "        m = np.float32([[1, 0, transform[0]], [0, 1, transform[1]]])\n",
    "        translated.append(cv2.warpAffine(image, m, dsize=(image.shape[0], image.shape[1])))\n",
    "\n",
    "    return translated\n",
    "\n",
    "\n",
    "def scale(image, scales=DEFAULT_SCALES):\n",
    "    scaled = []\n",
    "\n",
    "    for random_scale in scales:\n",
    "        scaled_image = cv2.resize(image, None, fx=random_scale, fy=random_scale)\n",
    "        scaled_image = cv2.resize(scaled_image, dsize=(image.shape[0], image.shape[1]))\n",
    "        scaled.append(scaled_image)\n",
    "    return scaled\n",
    "\n",
    "\n",
    "def rotate(image, angles=DEFAULT_ANGLES):\n",
    "    rotated = []\n",
    "\n",
    "    for angle in angles:\n",
    "        center = tuple(np.array(image.shape[:2]) / 2)\n",
    "        R = cv2.getRotationMatrix2D(center, angle, 1.0)\n",
    "        rotated_image = cv2.warpAffine(image, R, image.shape[:2], flags=cv2.INTER_CUBIC)\n",
    "        rotated.append(rotated_image)\n",
    "\n",
    "    return rotated\n",
    "\n",
    "\n",
    "def deterministic(train_input, train_labels):\n",
    "    augmented = { 'features': [], 'labels': [] }\n",
    "\n",
    "    for image, label in tqdm.tqdm(zip(train_input, train_labels), desc='Augmenting', total=len(train_input)):\n",
    "        augmented['features'].append(image)\n",
    "        augmented['labels'].append(label)\n",
    "        for _image in translate(image):\n",
    "            augmented['features'].append(_image)\n",
    "            augmented['labels'].append(label)\n",
    "        for _image in scale(image):\n",
    "            augmented['features'].append(_image)\n",
    "            augmented['labels'].append(label)\n",
    "        for _image in rotate(image):\n",
    "            augmented['features'].append(_image)\n",
    "            augmented['labels'].append(label)\n",
    "\n",
    "    return augmented\n",
    "\n",
    "\n",
    "def stochastic(train_input, train_label):\n",
    "    augmented = []\n",
    "\n",
    "    for image, label in zip(train_input, train_label):\n",
    "        augmented.append(translate(image, transforms=STOCHASTIC_TRANSFORMS))\n",
    "        augmented.append(scale(image, scales=STOCHASTIC_SCALES))\n",
    "        augmented.append(rotate(image, angles=STOCHASTIC_ANGLES))\n",
    "\n",
    "    return augmented\n",
    "\n",
    "\n",
    "def augment(file='data/augmented_train.pickle'):\n",
    "    augmented = deterministic(X_under, y_under)\n",
    "\n",
    "    class_distribution, _, patches = plt.hist(augmented['labels'], bins=np.arange(0,n_classes + 1))\n",
    "    \n",
    "    pickle.dump(augmented, open(file, 'wb+'))\n",
    "    \n",
    "augment()"
   ]
  },
  {
   "cell_type": "markdown",
   "metadata": {},
   "source": [
    "### Question 2\n",
    "\n",
    "_Describe how you set up the training, validation and testing data for your model. **Optional**: If you generated additional data, how did you generate the data? Why did you generate the data? What are the differences in the new dataset (with generated data) from the original dataset?_"
   ]
  },
  {
   "cell_type": "markdown",
   "metadata": {},
   "source": [
    "**Answer:**\n",
    "\n",
    "Additional data was generated using the techniques proposed in Sermanet&Lecun and Ciresan et. alt. Deterministic perturbations on scale, translation and rotation where carried on each original image. The complete agumented dataset was store on disk. The complete augmented dataset was divide into 80% training and 20% validation.\n"
   ]
  },
  {
   "cell_type": "code",
   "execution_count": 7,
   "metadata": {
    "collapsed": false
   },
   "outputs": [],
   "source": [
    "import tensorflow as tf\n",
    "\n",
    "FIRST_STAGE = {\n",
    "    'depth': 108,\n",
    "    'filter_size': 5,\n",
    "    'padding': 'SAME',\n",
    "    'stride': (1, 1, 1, 1)\n",
    "}\n",
    "SECOND_STAGE = {\n",
    "    'depth': 108,\n",
    "    'filter_size': 5,\n",
    "    'padding': 'SAME',\n",
    "    'stride': (1, 1, 1, 1)\n",
    "}\n",
    "FULL_CONNECTION = {\n",
    "    'hidden_units': 100,\n",
    "}\n",
    "FLATTEN_LAYER_SIZE = 108 * 8 * 8\n",
    "\n",
    "\n",
    "def weights(shape, stddev=0.01):\n",
    "    return tf.Variable(tf.truncated_normal(shape=shape, stddev=stddev, mean=0))\n",
    "\n",
    "\n",
    "def bias(shape, value=0.0):\n",
    "    return tf.Variable(tf.constant(value=value, shape=shape))\n",
    "\n",
    "\n",
    "def conv2d(input, filters_size, num_filters, input_depth, padding='VALID', strides=[1, 1, 1, 1]):\n",
    "\n",
    "    W = weights([filters_size, filters_size, input_depth, num_filters])  # filters\n",
    "    b = bias([num_filters])  # bias\n",
    "\n",
    "    return tf.nn.conv2d(input, W, padding=padding, strides=strides) + b\n",
    "\n",
    "\n",
    "def relu(layer):\n",
    "    return tf.nn.relu(layer)\n",
    "\n",
    "\n",
    "def max_pool(layer, ksize=[1,2,2,1], strides=[1,2,2,1], padding='SAME'):\n",
    "    return tf.nn.max_pool(layer, ksize=ksize, strides=strides, padding=padding)\n",
    "\n",
    "\n",
    "def fully_connected(x, num_inputs, num_outputs):\n",
    "    W = weights([num_inputs, num_outputs])\n",
    "    b = bias([num_outputs])\n",
    "    return tf.matmul(x, W) + b\n",
    "\n",
    "def stack(network_input, network_input_depth, output_size):\n",
    "\n",
    "    first_stage = conv2d(network_input, FIRST_STAGE['filter_size'], FIRST_STAGE['depth'],\n",
    "                                     network_input_depth, FIRST_STAGE['padding'], FIRST_STAGE['stride'])\n",
    "    first_stage = max_pool(first_stage)\n",
    "    first_stage = relu(first_stage)\n",
    "\n",
    "    second_stage = conv2d(first_stage, SECOND_STAGE['filter_size'], SECOND_STAGE['depth'],\n",
    "                                      FIRST_STAGE['depth'], SECOND_STAGE['padding'], SECOND_STAGE['stride'])\n",
    "    second_stage = max_pool(second_stage)\n",
    "    second_stage = relu(second_stage)\n",
    "\n",
    "    skip_layer = max_pool(first_stage)\n",
    "    skip_layer = tf.add(second_stage, skip_layer)\n",
    "    skip_layer = tf.reshape(skip_layer, [-1, FLATTEN_LAYER_SIZE])\n",
    "\n",
    "    fc = fully_connected(skip_layer, FLATTEN_LAYER_SIZE, FULL_CONNECTION['hidden_units'])\n",
    "    classification = fully_connected(fc, FULL_CONNECTION['hidden_units'], output_size)\n",
    "\n",
    "    return classification"
   ]
  },
  {
   "cell_type": "markdown",
   "metadata": {},
   "source": [
    "### Question 3\n",
    "\n",
    "_What does your final architecture look like? (Type of model, layers, sizes, connectivity, etc.)  For reference on how to build a deep neural network using TensorFlow, see [Deep Neural Network in TensorFlow\n",
    "](https://classroom.udacity.com/nanodegrees/nd013/parts/fbf77062-5703-404e-b60c-95b78b2f3f9e/modules/6df7ae49-c61c-4bb2-a23e-6527e69209ec/lessons/b516a270-8600-4f93-a0a3-20dfeabe5da6/concepts/83a3a2a2-a9bd-4b7b-95b0-eb924ab14432) from the classroom._\n"
   ]
  },
  {
   "cell_type": "markdown",
   "metadata": {},
   "source": [
    "**Answer:**\n",
    "\n",
    "The sequential model proposed tries to resemble the EBLearn 2-layer ConvNet ms proposed on Sermanet et alt. Two convolution stacks (convolutional layer, max pool, activation with a ReLU). The details of the configuration are available on the cell above on the FIRST_STAGE, SECOND_STAGE, FULL_CONNECTION configuration variables. One particularity of this architecture (named multi-staged on the papers) is the use of a Merge layer (implemented using tf.add)."
   ]
  },
  {
   "cell_type": "code",
   "execution_count": 8,
   "metadata": {
    "collapsed": true
   },
   "outputs": [],
   "source": [
    "### Train your model here.\n",
    "### Feel free to use as many code cells as needed.\n",
    "BATCH_SIZE = 32\n",
    "EPOCHS = 20\n",
    "PRE_TRAINED_FILE = 'sermanet_lecun'\n",
    "CHECKPOINT_DIR = '/'\n",
    "MAX_EPOCHS_NO_IMPROVE = 5\n",
    "\n",
    "\n",
    "def optimize(stack, encoded_y, learning_rate=1e-4):\n",
    "    cross_entropy = tf.nn.softmax_cross_entropy_with_logits(stack, encoded_y)\n",
    "    loss = tf.reduce_mean(cross_entropy)\n",
    "    return tf.train.AdamOptimizer(learning_rate).minimize(loss)\n",
    "\n",
    "\n",
    "def evaluate(stack, encoded_y):\n",
    "    y_prediction = tf.nn.softmax(stack)\n",
    "    prediction_match = tf.equal(tf.argmax(y_prediction, dimension=1), tf.argmax(encoded_y, dimension=1))\n",
    "    return prediction_match  # tf.reduce_mean(tf.cast(prediction_match, tf.float32))\n",
    "\n",
    "\n",
    "def compose(prediction_size):\n",
    "    x = tf.placeholder(tf.float32, [None, 1024])\n",
    "    x_4d = tf.reshape(x, [-1, 32, 32, 1])\n",
    "\n",
    "    y = tf.placeholder(tf.int32, [None])\n",
    "    classifier = tf.one_hot(y, prediction_size)\n",
    "\n",
    "    net = stack(network_input=x_4d, network_input_depth=1, output_size=prediction_size)\n",
    "\n",
    "    optimizer = optimize(net, classifier)\n",
    "    evaluator = evaluate(stack=net, encoded_y=classifier)\n",
    "\n",
    "    return optimizer, evaluator, x, y\n",
    "\n",
    "\n",
    "def train(train_input, train_output, validation_input, validation_output, prediction_size):\n",
    "    optimizer, evaluator, x, y = compose(prediction_size)\n",
    "\n",
    "    saver = tf.train.Saver()\n",
    "\n",
    "    best_validation_accuracy = 0.\n",
    "    last_improving_epoch = 0\n",
    "\n",
    "    with tf.Session() as session:\n",
    "        checkpoint_state = tf.train.get_checkpoint_state(CHECKPOINT_DIR)\n",
    "        if checkpoint_state and checkpoint_state.model_checkpoint_path:\n",
    "            saver.restore(session, PRE_TRAINED_FILE)\n",
    "        else:\n",
    "            session.run(tf.global_variables_initializer())\n",
    "\n",
    "        input_size = len(train_input)\n",
    "        validation_size = len(validation_input)\n",
    "\n",
    "        for epoch in range(EPOCHS):\n",
    "            for batch in tqdm.tqdm(range(0, input_size, BATCH_SIZE), desc='Mini Batch Training'):\n",
    "                input_batch, output_batch = preprocess(train_input[batch:batch+BATCH_SIZE]), \\\n",
    "                                            train_output[batch:batch+BATCH_SIZE]\n",
    "                session.run(optimizer, feed_dict={x: input_batch, y: output_batch})\n",
    "\n",
    "            predictions = []\n",
    "            for batch in tqdm.tqdm(range(0, validation_size, BATCH_SIZE), desc='Mini Batch Validation'):\n",
    "                sample_input, sample_output = preprocess(validation_input[batch:batch + BATCH_SIZE]), \\\n",
    "                                              validation_output[batch:batch + BATCH_SIZE]\n",
    "                predictions.extend(session.run(evaluator, feed_dict={x: sample_input, y: sample_output}))\n",
    "            validation_accuracy = np.mean(np.array(predictions).astype(np.float32))\n",
    "            \n",
    "            if validation_accuracy > best_validation_accuracy:\n",
    "                best_validation_accuracy = validation_accuracy\n",
    "                saver.save(sess=session, save_path=PRE_TRAINED_FILE)\n",
    "                last_improving_epoch = epoch\n",
    "\n",
    "            print(\"Training Epoch: {}, Accuracy: {:.4f}\\n\".format(epoch, validation_accuracy))\n",
    "            \n",
    "            # early stopping if no improvement for two epochs\n",
    "            if last_improving_epoch - epoch > MAX_EPOCHS_NO_IMPROVE:\n",
    "                break\n",
    "\n",
    "        session.close()"
   ]
  },
  {
   "cell_type": "code",
   "execution_count": 9,
   "metadata": {
    "collapsed": false,
    "scrolled": false
   },
   "outputs": [
    {
     "name": "stderr",
     "output_type": "stream",
     "text": [
      "Mini Batch Training: 100%|██████████| 2286/2286 [01:41<00:00, 22.42it/s]\n",
      "Mini Batch Validation: 100%|██████████| 254/254 [00:03<00:00, 74.63it/s]\n",
      "Mini Batch Training:   0%|          | 3/2286 [00:00<01:39, 23.04it/s]"
     ]
    },
    {
     "name": "stdout",
     "output_type": "stream",
     "text": [
      "Training Epoch: 0, Accuracy: 0.9402\n",
      "\n"
     ]
    },
    {
     "name": "stderr",
     "output_type": "stream",
     "text": [
      "Mini Batch Training: 100%|██████████| 2286/2286 [01:41<00:00, 22.62it/s]\n",
      "Mini Batch Validation: 100%|██████████| 254/254 [00:03<00:00, 76.60it/s]\n",
      "Mini Batch Training:   0%|          | 3/2286 [00:00<01:43, 22.16it/s]"
     ]
    },
    {
     "name": "stdout",
     "output_type": "stream",
     "text": [
      "Training Epoch: 1, Accuracy: 0.9722\n",
      "\n"
     ]
    },
    {
     "name": "stderr",
     "output_type": "stream",
     "text": [
      "Mini Batch Training: 100%|██████████| 2286/2286 [01:44<00:00, 21.94it/s]\n",
      "Mini Batch Validation: 100%|██████████| 254/254 [00:03<00:00, 71.22it/s]\n",
      "Mini Batch Training:   0%|          | 3/2286 [00:00<01:36, 23.62it/s]"
     ]
    },
    {
     "name": "stdout",
     "output_type": "stream",
     "text": [
      "Training Epoch: 2, Accuracy: 0.9791\n",
      "\n"
     ]
    },
    {
     "name": "stderr",
     "output_type": "stream",
     "text": [
      "Mini Batch Training: 100%|██████████| 2286/2286 [01:42<00:00, 21.95it/s]\n",
      "Mini Batch Validation: 100%|██████████| 254/254 [00:03<00:00, 79.74it/s]\n",
      "Mini Batch Training:   0%|          | 3/2286 [00:00<01:36, 23.59it/s]"
     ]
    },
    {
     "name": "stdout",
     "output_type": "stream",
     "text": [
      "Training Epoch: 3, Accuracy: 0.9830\n",
      "\n"
     ]
    },
    {
     "name": "stderr",
     "output_type": "stream",
     "text": [
      "Mini Batch Training: 100%|██████████| 2286/2286 [01:41<00:00, 22.42it/s]\n",
      "Mini Batch Validation: 100%|██████████| 254/254 [00:03<00:00, 76.64it/s]\n",
      "Mini Batch Training:   0%|          | 3/2286 [00:00<01:39, 22.84it/s]"
     ]
    },
    {
     "name": "stdout",
     "output_type": "stream",
     "text": [
      "Training Epoch: 4, Accuracy: 0.9811\n",
      "\n"
     ]
    },
    {
     "name": "stderr",
     "output_type": "stream",
     "text": [
      "Mini Batch Training: 100%|██████████| 2286/2286 [01:44<00:00, 22.38it/s]\n",
      "Mini Batch Validation: 100%|██████████| 254/254 [00:03<00:00, 70.20it/s]\n",
      "Mini Batch Training:   0%|          | 3/2286 [00:00<01:47, 21.32it/s]"
     ]
    },
    {
     "name": "stdout",
     "output_type": "stream",
     "text": [
      "Training Epoch: 5, Accuracy: 0.9856\n",
      "\n"
     ]
    },
    {
     "name": "stderr",
     "output_type": "stream",
     "text": [
      "Mini Batch Training: 100%|██████████| 2286/2286 [01:42<00:00, 22.30it/s]\n",
      "Mini Batch Validation: 100%|██████████| 254/254 [00:03<00:00, 68.50it/s]\n",
      "Mini Batch Training:   0%|          | 2/2286 [00:00<01:55, 19.71it/s]"
     ]
    },
    {
     "name": "stdout",
     "output_type": "stream",
     "text": [
      "Training Epoch: 6, Accuracy: 0.9838\n",
      "\n"
     ]
    },
    {
     "name": "stderr",
     "output_type": "stream",
     "text": [
      "Mini Batch Training: 100%|██████████| 2286/2286 [01:44<00:00, 22.75it/s]\n",
      "Mini Batch Validation: 100%|██████████| 254/254 [00:03<00:00, 71.57it/s]\n",
      "Mini Batch Training:   0%|          | 3/2286 [00:00<01:41, 22.50it/s]"
     ]
    },
    {
     "name": "stdout",
     "output_type": "stream",
     "text": [
      "Training Epoch: 7, Accuracy: 0.9893\n",
      "\n"
     ]
    },
    {
     "name": "stderr",
     "output_type": "stream",
     "text": [
      "Mini Batch Training: 100%|██████████| 2286/2286 [01:44<00:00, 21.90it/s]\n",
      "Mini Batch Validation: 100%|██████████| 254/254 [00:03<00:00, 79.71it/s]\n",
      "Mini Batch Training:   0%|          | 3/2286 [00:00<01:36, 23.60it/s]"
     ]
    },
    {
     "name": "stdout",
     "output_type": "stream",
     "text": [
      "Training Epoch: 8, Accuracy: 0.9831\n",
      "\n"
     ]
    },
    {
     "name": "stderr",
     "output_type": "stream",
     "text": [
      "Mini Batch Training: 100%|██████████| 2286/2286 [01:43<00:00, 22.11it/s]\n",
      "Mini Batch Validation: 100%|██████████| 254/254 [00:03<00:00, 69.82it/s]\n",
      "Mini Batch Training:   0%|          | 3/2286 [00:00<01:41, 22.47it/s]"
     ]
    },
    {
     "name": "stdout",
     "output_type": "stream",
     "text": [
      "Training Epoch: 9, Accuracy: 0.9874\n",
      "\n"
     ]
    },
    {
     "name": "stderr",
     "output_type": "stream",
     "text": [
      "Mini Batch Training: 100%|██████████| 2286/2286 [01:44<00:00, 21.97it/s]\n",
      "Mini Batch Validation: 100%|██████████| 254/254 [00:04<00:00, 63.31it/s]\n",
      "Mini Batch Training:   0%|          | 3/2286 [00:00<01:40, 22.76it/s]"
     ]
    },
    {
     "name": "stdout",
     "output_type": "stream",
     "text": [
      "Training Epoch: 10, Accuracy: 0.9899\n",
      "\n"
     ]
    },
    {
     "name": "stderr",
     "output_type": "stream",
     "text": [
      "Mini Batch Training: 100%|██████████| 2286/2286 [01:42<00:00, 22.20it/s]\n",
      "Mini Batch Validation: 100%|██████████| 254/254 [00:03<00:00, 76.96it/s]\n",
      "Mini Batch Training:   0%|          | 3/2286 [00:00<01:38, 23.08it/s]"
     ]
    },
    {
     "name": "stdout",
     "output_type": "stream",
     "text": [
      "Training Epoch: 11, Accuracy: 0.9858\n",
      "\n"
     ]
    },
    {
     "name": "stderr",
     "output_type": "stream",
     "text": [
      "Mini Batch Training: 100%|██████████| 2286/2286 [01:42<00:00, 22.27it/s]\n",
      "Mini Batch Validation: 100%|██████████| 254/254 [00:03<00:00, 75.89it/s]\n",
      "Mini Batch Training:   0%|          | 3/2286 [00:00<01:37, 23.32it/s]"
     ]
    },
    {
     "name": "stdout",
     "output_type": "stream",
     "text": [
      "Training Epoch: 12, Accuracy: 0.9895\n",
      "\n"
     ]
    },
    {
     "name": "stderr",
     "output_type": "stream",
     "text": [
      "Mini Batch Training: 100%|██████████| 2286/2286 [01:42<00:00, 22.31it/s]\n",
      "Mini Batch Validation: 100%|██████████| 254/254 [00:03<00:00, 76.03it/s]\n",
      "Mini Batch Training:   0%|          | 3/2286 [00:00<01:40, 22.71it/s]"
     ]
    },
    {
     "name": "stdout",
     "output_type": "stream",
     "text": [
      "Training Epoch: 13, Accuracy: 0.9926\n",
      "\n"
     ]
    },
    {
     "name": "stderr",
     "output_type": "stream",
     "text": [
      "Mini Batch Training: 100%|██████████| 2286/2286 [01:44<00:00, 21.80it/s]\n",
      "Mini Batch Validation: 100%|██████████| 254/254 [00:03<00:00, 70.39it/s]\n",
      "Mini Batch Training:   0%|          | 3/2286 [00:00<01:37, 23.39it/s]"
     ]
    },
    {
     "name": "stdout",
     "output_type": "stream",
     "text": [
      "Training Epoch: 14, Accuracy: 0.9890\n",
      "\n"
     ]
    },
    {
     "name": "stderr",
     "output_type": "stream",
     "text": [
      "Mini Batch Training: 100%|██████████| 2286/2286 [01:42<00:00, 23.71it/s]\n",
      "Mini Batch Validation: 100%|██████████| 254/254 [00:03<00:00, 73.21it/s]\n",
      "Mini Batch Training:   0%|          | 3/2286 [00:00<01:39, 22.84it/s]"
     ]
    },
    {
     "name": "stdout",
     "output_type": "stream",
     "text": [
      "Training Epoch: 15, Accuracy: 0.9892\n",
      "\n"
     ]
    },
    {
     "name": "stderr",
     "output_type": "stream",
     "text": [
      "Mini Batch Training: 100%|██████████| 2286/2286 [01:44<00:00, 23.82it/s]\n",
      "Mini Batch Validation: 100%|██████████| 254/254 [00:03<00:00, 77.49it/s]\n",
      "Mini Batch Training:   0%|          | 3/2286 [00:00<01:39, 22.96it/s]"
     ]
    },
    {
     "name": "stdout",
     "output_type": "stream",
     "text": [
      "Training Epoch: 16, Accuracy: 0.9890\n",
      "\n"
     ]
    },
    {
     "name": "stderr",
     "output_type": "stream",
     "text": [
      "Mini Batch Training: 100%|██████████| 2286/2286 [01:42<00:00, 20.97it/s]\n",
      "Mini Batch Validation: 100%|██████████| 254/254 [00:03<00:00, 68.66it/s]\n",
      "Mini Batch Training:   0%|          | 2/2286 [00:00<01:55, 19.72it/s]"
     ]
    },
    {
     "name": "stdout",
     "output_type": "stream",
     "text": [
      "Training Epoch: 17, Accuracy: 0.9911\n",
      "\n"
     ]
    },
    {
     "name": "stderr",
     "output_type": "stream",
     "text": [
      "Mini Batch Training: 100%|██████████| 2286/2286 [01:43<00:00, 22.12it/s]\n",
      "Mini Batch Validation: 100%|██████████| 254/254 [00:03<00:00, 73.29it/s]\n",
      "Mini Batch Training:   0%|          | 3/2286 [00:00<01:38, 23.19it/s]"
     ]
    },
    {
     "name": "stdout",
     "output_type": "stream",
     "text": [
      "Training Epoch: 18, Accuracy: 0.9895\n",
      "\n"
     ]
    },
    {
     "name": "stderr",
     "output_type": "stream",
     "text": [
      "Mini Batch Training: 100%|██████████| 2286/2286 [01:40<00:00, 22.74it/s]\n",
      "Mini Batch Validation: 100%|██████████| 254/254 [00:03<00:00, 75.11it/s]"
     ]
    },
    {
     "name": "stdout",
     "output_type": "stream",
     "text": [
      "Training Epoch: 19, Accuracy: 0.9827\n",
      "\n"
     ]
    },
    {
     "name": "stderr",
     "output_type": "stream",
     "text": [
      "\n"
     ]
    }
   ],
   "source": [
    "from sklearn.model_selection import train_test_split\n",
    "TRAIN_FILE = 'data/augmented_train.pickle'\n",
    "VALIDATION_TEST_PERCENTAGE = 0.10\n",
    "\n",
    "def load_train_data():\n",
    "    with open(TRAIN_FILE, mode='rb') as f:\n",
    "        train = pickle.load(f)\n",
    "\n",
    "    return train_test_split(train['features'], train['labels'], test_size=VALIDATION_TEST_PERCENTAGE)\n",
    "\n",
    "train_input, validation_input, train_output, validation_output = load_train_data()\n",
    "train(train_input, train_output, validation_input, validation_output, 43)"
   ]
  },
  {
   "cell_type": "markdown",
   "metadata": {},
   "source": [
    "### Question 4\n",
    "\n",
    "_How did you train your model? (Type of optimizer, batch size, epochs, hyperparameters, etc.)_\n"
   ]
  },
  {
   "cell_type": "markdown",
   "metadata": {},
   "source": [
    "**Answer:**\n",
    "\n",
    "The training was performed using Adam optimizer with initial learning rate of 1e-4 and with a size of 32 for each batch by 100 epochs (number may change because of restarting the notebook loads the pre-trained model). An early stopping is performed if there is no improvement on the validation accuracy for 5 epochs. Keeping track of the validation accuracy, the most accurate model is store on disk."
   ]
  },
  {
   "cell_type": "markdown",
   "metadata": {},
   "source": [
    "### Question 5\n",
    "\n",
    "\n",
    "_What approach did you take in coming up with a solution to this problem? It may have been a process of trial and error, in which case, outline the steps you took to get to the final solution and why you chose those steps. Perhaps your solution involved an already well known implementation or architecture. In this case, discuss why you think this is suitable for the current problem._"
   ]
  },
  {
   "cell_type": "markdown",
   "metadata": {},
   "source": [
    "**Answer:**\n",
    "\n",
    "I reviewed several papers focused on the traffic sign classification problem, including: \n",
    " \n",
    "- Multi-Column Deep Neural Network for Traffic Sign Classification, by Dan Cireşan et alt.\n",
    "\n",
    "- A Practical and Highly Optimized Convolutional Neural Network for Classifying Traffic Signs in Real-Time\n",
    "by Hamed Habibi Aghdam et alt.\n",
    "\n",
    "- Traffic Sign Recognition with Multi-Scale Convolutional Networks by Pierre Sermanet et alt.\n",
    "\n",
    "- Traffic Sign Recognition Using Extreme Learning Classifier with Deep Convolutional Features by Yujun Zeng et alt.\n",
    "\n",
    "The final solution was a combination of several ideas and a some hours of experimentation. The architecture selected depicted on Sermanet et. alt. posed a significant challenge given that it was not completely specified. Probably the best solution of all researched is the one by Habibi et alt. but I had not enough computational resources to execute it. I made some efforts to compare each implementations which can be found at: https://github.com/takeitallsource/TrafficSign-ConvNet-Evaluation"
   ]
  },
  {
   "cell_type": "markdown",
   "metadata": {},
   "source": [
    "---\n",
    "\n",
    "## Step 3: Test a Model on New Images\n",
    "\n",
    "Take several pictures of traffic signs that you find on the web or around you (at least five), and run them through your classifier on your computer to produce example results. The classifier might not recognize some local signs but it could prove interesting nonetheless.\n",
    "\n",
    "You may find `signnames.csv` useful as it contains mappings from the class id (integer) to the actual sign name."
   ]
  },
  {
   "cell_type": "markdown",
   "metadata": {},
   "source": [
    "### Implementation\n",
    "\n",
    "Use the code cell (or multiple code cells, if necessary) to implement the first step of your project. Once you have completed your implementation and are satisfied with the results, be sure to thoroughly answer the questions that follow."
   ]
  },
  {
   "cell_type": "code",
   "execution_count": null,
   "metadata": {
    "collapsed": true
   },
   "outputs": [],
   "source": [
    "### Load the images and plot them here.\n",
    "### Feel free to use as many code cells as needed."
   ]
  },
  {
   "cell_type": "markdown",
   "metadata": {},
   "source": [
    "### Question 6\n",
    "\n",
    "_Choose five candidate images of traffic signs and provide them in the report. Are there any particular qualities of the image(s) that might make classification difficult? It could be helpful to plot the images in the notebook._\n",
    "\n"
   ]
  },
  {
   "cell_type": "markdown",
   "metadata": {},
   "source": [
    "**Answer:**"
   ]
  },
  {
   "cell_type": "code",
   "execution_count": null,
   "metadata": {
    "collapsed": true
   },
   "outputs": [],
   "source": [
    "### Run the predictions here.\n",
    "### Feel free to use as many code cells as needed."
   ]
  },
  {
   "cell_type": "markdown",
   "metadata": {},
   "source": [
    "### Question 7\n",
    "\n",
    "_Is your model able to perform equally well on captured pictures when compared to testing on the dataset? The simplest way to do this check the accuracy of the predictions. For example, if the model predicted 1 out of 5 signs correctly, it's 20% accurate._\n",
    "\n",
    "_**NOTE:** You could check the accuracy manually by using `signnames.csv` (same directory). This file has a mapping from the class id (0-42) to the corresponding sign name. So, you could take the class id the model outputs, lookup the name in `signnames.csv` and see if it matches the sign from the image._\n"
   ]
  },
  {
   "cell_type": "markdown",
   "metadata": {},
   "source": [
    "**Answer:**"
   ]
  },
  {
   "cell_type": "code",
   "execution_count": null,
   "metadata": {
    "collapsed": true
   },
   "outputs": [],
   "source": [
    "### Visualize the softmax probabilities here.\n",
    "### Feel free to use as many code cells as needed."
   ]
  },
  {
   "cell_type": "markdown",
   "metadata": {},
   "source": [
    "### Question 8\n",
    "\n",
    "*Use the model's softmax probabilities to visualize the **certainty** of its predictions, [`tf.nn.top_k`](https://www.tensorflow.org/versions/r0.12/api_docs/python/nn.html#top_k) could prove helpful here. Which predictions is the model certain of? Uncertain? If the model was incorrect in its initial prediction, does the correct prediction appear in the top k? (k should be 5 at most)*\n",
    "\n",
    "`tf.nn.top_k` will return the values and indices (class ids) of the top k predictions. So if k=3, for each sign, it'll return the 3 largest probabilities (out of a possible 43) and the correspoding class ids.\n",
    "\n",
    "Take this numpy array as an example:\n",
    "\n",
    "```\n",
    "# (5, 6) array\n",
    "a = np.array([[ 0.24879643,  0.07032244,  0.12641572,  0.34763842,  0.07893497,\n",
    "         0.12789202],\n",
    "       [ 0.28086119,  0.27569815,  0.08594638,  0.0178669 ,  0.18063401,\n",
    "         0.15899337],\n",
    "       [ 0.26076848,  0.23664738,  0.08020603,  0.07001922,  0.1134371 ,\n",
    "         0.23892179],\n",
    "       [ 0.11943333,  0.29198961,  0.02605103,  0.26234032,  0.1351348 ,\n",
    "         0.16505091],\n",
    "       [ 0.09561176,  0.34396535,  0.0643941 ,  0.16240774,  0.24206137,\n",
    "         0.09155967]])\n",
    "```\n",
    "\n",
    "Running it through `sess.run(tf.nn.top_k(tf.constant(a), k=3))` produces:\n",
    "\n",
    "```\n",
    "TopKV2(values=array([[ 0.34763842,  0.24879643,  0.12789202],\n",
    "       [ 0.28086119,  0.27569815,  0.18063401],\n",
    "       [ 0.26076848,  0.23892179,  0.23664738],\n",
    "       [ 0.29198961,  0.26234032,  0.16505091],\n",
    "       [ 0.34396535,  0.24206137,  0.16240774]]), indices=array([[3, 0, 5],\n",
    "       [0, 1, 4],\n",
    "       [0, 5, 1],\n",
    "       [1, 3, 5],\n",
    "       [1, 4, 3]], dtype=int32))\n",
    "```\n",
    "\n",
    "Looking just at the first row we get `[ 0.34763842,  0.24879643,  0.12789202]`, you can confirm these are the 3 largest probabilities in `a`. You'll also notice `[3, 0, 5]` are the corresponding indices."
   ]
  },
  {
   "cell_type": "markdown",
   "metadata": {},
   "source": [
    "**Answer:**"
   ]
  },
  {
   "cell_type": "markdown",
   "metadata": {},
   "source": [
    "> **Note**: Once you have completed all of the code implementations and successfully answered each question above, you may finalize your work by exporting the iPython Notebook as an HTML document. You can do this by using the menu above and navigating to  \\n\",\n",
    "    \"**File -> Download as -> HTML (.html)**. Include the finished document along with this notebook as your submission."
   ]
  },
  {
   "cell_type": "code",
   "execution_count": null,
   "metadata": {
    "collapsed": true
   },
   "outputs": [],
   "source": []
  }
 ],
 "metadata": {
  "anaconda-cloud": {},
  "kernelspec": {
   "display_name": "Python 3",
   "language": "python",
   "name": "python3"
  },
  "language_info": {
   "codemirror_mode": {
    "name": "ipython",
    "version": 3
   },
   "file_extension": ".py",
   "mimetype": "text/x-python",
   "name": "python",
   "nbconvert_exporter": "python",
   "pygments_lexer": "ipython3",
   "version": "3.5.2"
  }
 },
 "nbformat": 4,
 "nbformat_minor": 0
}
